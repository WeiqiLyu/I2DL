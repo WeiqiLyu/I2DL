{
 "cells": [
  {
   "cell_type": "markdown",
   "metadata": {},
   "source": [
    "# Tensorboard Introduction\n",
    "\n",
    "Welcome to the introduction of [`TensorBoard`](https://www.tensorflow.org/tensorboard). In this tutorial, we’ll learn how to:\n",
    "\n",
    "1. Set up TensorBoard\n",
    "2. Write values to TensorBoard\n",
    "3. Inspect a model architecture using TensorBoard\n",
    "4. Train model and write loss, accuracy and some images to TensorBoard\n",
    "\n",
    "Finally we will visualize the effect of different weight initializations on the neural network using `TensorBoard`."
   ]
  },
  {
   "cell_type": "markdown",
   "metadata": {},
   "source": [
    "## (Optional) Mount folder in Colab\n",
    "\n",
    "Uncomment thefollowing cell to mount your gdrive if you are using the notebook in google colab:"
   ]
  },
  {
   "cell_type": "code",
   "execution_count": null,
   "metadata": {},
   "outputs": [],
   "source": [
    "\"\"\"\n",
    "from google.colab import drive\n",
    "import os\n",
    "\n",
    "gdrive_path='/content/gdrive/MyDrive/i2dl/exercise_07'\n",
    "\n",
    "# This will mount your google drive under 'MyDrive'\n",
    "drive.mount('/content/gdrive', force_remount=True)\n",
    "# In order to access the files in this notebook we have to navigate to the correct folder\n",
    "os.chdir(gdrive_path)\n",
    "# Check manually if all files are present\n",
    "print(sorted(os.listdir()))\n",
    "\"\"\""
   ]
  },
  {
   "cell_type": "code",
   "execution_count": null,
   "metadata": {},
   "outputs": [],
   "source": [
    "# Optional: install correct libraries in google colab\n",
    "# !python -m pip install torch==1.11.0+cu113 torchvision==0.12.0+cu113 -f https://download.pytorch.org/whl/torch_stable.html > /dev/null"
   ]
  },
  {
   "cell_type": "markdown",
   "metadata": {},
   "source": [
    "# 1. Getting Started"
   ]
  },
  {
   "cell_type": "markdown",
   "metadata": {},
   "source": [
    "TensorBoard helps us track our metrics such as loss, accuracy and visualize the results, model graphs that may be needed during the machine learning workflow. \n",
    "\n",
    "Let's start by installing `TensorBoard` and maybe the correct alternative libraries for google colab."
   ]
  },
  {
   "cell_type": "code",
   "execution_count": 1,
   "metadata": {},
   "outputs": [
    {
     "name": "stdout",
     "output_type": "stream",
     "text": [
      "Collecting tensorboard==2.9.1\n",
      "  Downloading tensorboard-2.9.1-py3-none-any.whl (5.8 MB)\n",
      "     ---------------------------------------- 5.8/5.8 MB 20.6 MB/s eta 0:00:00\n",
      "Collecting werkzeug>=1.0.1\n",
      "  Downloading Werkzeug-2.1.2-py3-none-any.whl (224 kB)\n",
      "     ---------------------------------------- 224.9/224.9 KB ? eta 0:00:00\n",
      "Collecting grpcio>=1.24.3\n",
      "  Downloading grpcio-1.47.0-cp38-cp38-win_amd64.whl (3.6 MB)\n",
      "     ---------------------------------------- 3.6/3.6 MB 20.7 MB/s eta 0:00:00\n",
      "Collecting protobuf<3.20,>=3.9.2\n",
      "  Downloading protobuf-3.19.4-cp38-cp38-win_amd64.whl (895 kB)\n",
      "     ------------------------------------- 895.9/895.9 KB 27.7 MB/s eta 0:00:00\n",
      "Collecting tensorboard-data-server<0.7.0,>=0.6.0\n",
      "  Downloading tensorboard_data_server-0.6.1-py3-none-any.whl (2.4 kB)\n",
      "Collecting tensorboard-plugin-wit>=1.6.0\n",
      "  Downloading tensorboard_plugin_wit-1.8.1-py3-none-any.whl (781 kB)\n",
      "     ------------------------------------- 781.3/781.3 KB 24.1 MB/s eta 0:00:00\n",
      "Collecting markdown>=2.6.8\n",
      "  Downloading Markdown-3.3.7-py3-none-any.whl (97 kB)\n",
      "     ---------------------------------------- 97.8/97.8 KB 5.5 MB/s eta 0:00:00\n",
      "Collecting google-auth-oauthlib<0.5,>=0.4.1\n",
      "  Downloading google_auth_oauthlib-0.4.6-py2.py3-none-any.whl (18 kB)\n",
      "Requirement already satisfied: numpy>=1.12.0 in c:\\users\\xshys\\appdata\\local\\programs\\python\\python38\\lib\\site-packages (from tensorboard==2.9.1) (1.22.3)\n",
      "Collecting absl-py>=0.4\n",
      "  Downloading absl_py-1.1.0-py3-none-any.whl (123 kB)\n",
      "     ---------------------------------------- 123.7/123.7 KB ? eta 0:00:00\n",
      "Requirement already satisfied: requests<3,>=2.21.0 in c:\\users\\xshys\\appdata\\local\\programs\\python\\python38\\lib\\site-packages (from tensorboard==2.9.1) (2.28.0)\n",
      "Requirement already satisfied: setuptools>=41.0.0 in c:\\users\\xshys\\appdata\\local\\programs\\python\\python38\\lib\\site-packages (from tensorboard==2.9.1) (61.2.0)\n",
      "Collecting google-auth<3,>=1.6.3\n",
      "  Downloading google_auth-2.8.0-py2.py3-none-any.whl (164 kB)\n",
      "     ---------------------------------------- 164.2/164.2 KB ? eta 0:00:00\n",
      "Requirement already satisfied: wheel>=0.26 in c:\\users\\xshys\\appdata\\local\\programs\\python\\python38\\lib\\site-packages (from tensorboard==2.9.1) (0.37.1)\n",
      "Collecting rsa<5,>=3.1.4\n",
      "  Downloading rsa-4.8-py3-none-any.whl (39 kB)\n",
      "Collecting cachetools<6.0,>=2.0.0\n",
      "  Downloading cachetools-5.2.0-py3-none-any.whl (9.3 kB)\n",
      "Requirement already satisfied: six>=1.9.0 in c:\\users\\xshys\\appdata\\local\\programs\\python\\python38\\lib\\site-packages (from google-auth<3,>=1.6.3->tensorboard==2.9.1) (1.16.0)\n",
      "Collecting pyasn1-modules>=0.2.1\n",
      "  Downloading pyasn1_modules-0.2.8-py2.py3-none-any.whl (155 kB)\n",
      "     ---------------------------------------- 155.3/155.3 KB ? eta 0:00:00\n",
      "Collecting requests-oauthlib>=0.7.0\n",
      "  Downloading requests_oauthlib-1.3.1-py2.py3-none-any.whl (23 kB)\n",
      "Collecting importlib-metadata>=4.4\n",
      "  Downloading importlib_metadata-4.11.4-py3-none-any.whl (18 kB)\n",
      "Requirement already satisfied: certifi>=2017.4.17 in c:\\users\\xshys\\appdata\\local\\programs\\python\\python38\\lib\\site-packages (from requests<3,>=2.21.0->tensorboard==2.9.1) (2021.10.8)\n",
      "Requirement already satisfied: urllib3<1.27,>=1.21.1 in c:\\users\\xshys\\appdata\\local\\programs\\python\\python38\\lib\\site-packages (from requests<3,>=2.21.0->tensorboard==2.9.1) (1.26.9)\n",
      "Requirement already satisfied: charset-normalizer~=2.0.0 in c:\\users\\xshys\\appdata\\local\\programs\\python\\python38\\lib\\site-packages (from requests<3,>=2.21.0->tensorboard==2.9.1) (2.0.12)\n",
      "Requirement already satisfied: idna<4,>=2.5 in c:\\users\\xshys\\appdata\\local\\programs\\python\\python38\\lib\\site-packages (from requests<3,>=2.21.0->tensorboard==2.9.1) (3.3)\n",
      "Requirement already satisfied: zipp>=0.5 in c:\\users\\xshys\\appdata\\local\\programs\\python\\python38\\lib\\site-packages (from importlib-metadata>=4.4->markdown>=2.6.8->tensorboard==2.9.1) (3.8.0)\n",
      "Collecting pyasn1<0.5.0,>=0.4.6\n",
      "  Downloading pyasn1-0.4.8-py2.py3-none-any.whl (77 kB)\n",
      "     ---------------------------------------- 77.1/77.1 KB 4.2 MB/s eta 0:00:00\n",
      "Collecting oauthlib>=3.0.0\n",
      "  Downloading oauthlib-3.2.0-py3-none-any.whl (151 kB)\n",
      "     -------------------------------------- 151.5/151.5 KB 4.6 MB/s eta 0:00:00\n",
      "Installing collected packages: tensorboard-plugin-wit, pyasn1, werkzeug, tensorboard-data-server, rsa, pyasn1-modules, protobuf, oauthlib, importlib-metadata, grpcio, cachetools, absl-py, requests-oauthlib, markdown, google-auth, google-auth-oauthlib, tensorboard\n",
      "Successfully installed absl-py-1.1.0 cachetools-5.2.0 google-auth-2.8.0 google-auth-oauthlib-0.4.6 grpcio-1.47.0 importlib-metadata-4.11.4 markdown-3.3.7 oauthlib-3.2.0 protobuf-3.19.4 pyasn1-0.4.8 pyasn1-modules-0.2.8 requests-oauthlib-1.3.1 rsa-4.8 tensorboard-2.9.1 tensorboard-data-server-0.6.1 tensorboard-plugin-wit-1.8.1 werkzeug-2.1.2\n"
     ]
    },
    {
     "name": "stderr",
     "output_type": "stream",
     "text": [
      "WARNING: You are using pip version 22.0.4; however, version 22.1.2 is available.\n",
      "You should consider upgrading via the 'c:\\users\\xshys\\appdata\\local\\programs\\python\\python38\\python.exe -m pip install --upgrade pip' command.\n"
     ]
    }
   ],
   "source": [
    "# remove the \"> /dev/null\" if you want to see the output of installation statu\n",
    "import sys\n",
    "\n",
    "# For google colab\n",
    "# !python -m pip install tensorboard==2.9.1 > /dev/null\n",
    "\n",
    "# For anaconda/regular environments\n",
    "!{sys.executable} -m pip install tensorboard==2.9.1"
   ]
  },
  {
   "cell_type": "code",
   "execution_count": 2,
   "metadata": {},
   "outputs": [
    {
     "name": "stdout",
     "output_type": "stream",
     "text": [
      "Tensorboard version: 2.9.1\n",
      "PyTorch version Installed: 1.11.0+cpu\n",
      "Torchvision version Installed: 0.12.0+cpu\n",
      "\n"
     ]
    }
   ],
   "source": [
    "import tensorboard\n",
    "import torch\n",
    "import torchvision\n",
    "print(f\"Tensorboard version: {tensorboard.__version__}\")\n",
    "if not tensorboard.__version__.startswith(\"2.9.1\"):\n",
    "    print(\"You are using an another version of Tensorboard. We expect Tensorboard 2.9.1 You may continue using your version but it\"\n",
    "          \" might cause dependency and compatibility issues.\")\n",
    "print(f\"PyTorch version Installed: {torch.__version__}\\nTorchvision version Installed: {torchvision.__version__}\\n\")\n",
    "if not torch.__version__.startswith(\"1.11\"):\n",
    "    print(\"you are using an another version of PyTorch. We expect PyTorch 1.11.0. You may continue using your version but it\"\n",
    "          \" might cause dependency and compatibility issues.\")\n",
    "if not torchvision.__version__.startswith(\"0.12\"):\n",
    "    print(\"you are using an another version of torchvision. We expect torchvision 0.12. You can continue with your version but it\"\n",
    "          \" might cause dependency and compatibility issues.\")"
   ]
  },
  {
   "cell_type": "markdown",
   "metadata": {},
   "source": [
    "This tutorial is highly aligned with the `TensorBoard` tutorial from [`PyTorch`](https://pytorch.org/tutorials/intermediate/tensorboard_tutorial.html). Have a look at that tutorial as well!"
   ]
  },
  {
   "cell_type": "code",
   "execution_count": 14,
   "metadata": {},
   "outputs": [
    {
     "data": {
      "text/plain": [
       "'C:\\\\Users\\\\xshys\\\\Desktop\\\\2022SS\\\\I2dl\\\\Exercise\\\\i2dl\\\\exercise_07'"
      ]
     },
     "execution_count": 14,
     "metadata": {},
     "output_type": "execute_result"
    }
   ],
   "source": [
    "import os\n",
    "os.getcwd()"
   ]
  },
  {
   "cell_type": "markdown",
   "metadata": {},
   "source": [
    "## 2. Setting up  TensorBoard"
   ]
  },
  {
   "cell_type": "markdown",
   "metadata": {},
   "source": [
    "Let's start from where we ended the previous notebook on `PyTorch`. We will again use the [`Fashion-MNIST`](https://research.zalando.com/welcome/mission/research-projects/fashion-mnist/) dataset for this notebook.\n",
    "\n",
    "The below cell of code sets up the dataloader and a plotting function to visualize samples from the dataset. This step is very similar to our previous notebook."
   ]
  },
  {
   "cell_type": "code",
   "execution_count": 3,
   "metadata": {},
   "outputs": [],
   "source": [
    "# import all the required packages\n",
    "%load_ext autoreload\n",
    "%autoreload 2\n",
    "%matplotlib inline\n",
    "\n",
    "import matplotlib.pyplot as plt\n",
    "import numpy as np\n",
    "\n",
    "import torch\n",
    "import torchvision\n",
    "import torchvision.transforms as transforms\n",
    "\n",
    "import torch.nn as nn\n",
    "import torch.nn.functional as F\n",
    "import torch.optim as optim\n",
    "\n",
    "transform = transforms.Compose([transforms.ToTensor(),\n",
    "                                transforms.Normalize((0.5,),(0.5,))])  # mean and std have to be sequences (e.g. tuples),\n",
    "                                                                      # therefore we should add a comma after the values\n",
    "\n",
    "fashion_mnist_dataset = torchvision.datasets.FashionMNIST(root='../datasets', train=True,\n",
    "                                                          download=True, transform=transform)\n",
    "\n",
    "fashion_mnist_test_dataset = torchvision.datasets.FashionMNIST(root='../datasets', train=False,\n",
    "                                                          download=True, transform=transform)\n",
    "\n",
    "trainloader = torch.utils.data.DataLoader(fashion_mnist_dataset, batch_size=8)\n",
    "\n",
    "testloader = torch.utils.data.DataLoader(fashion_mnist_test_dataset, batch_size=8)\n",
    "\n",
    "classes = ('T-shirt/top', 'Trouser', 'Pullover', 'Dress', 'Coat',\n",
    "           'Sandal', 'Shirt', 'Sneaker', 'Bag', 'Ankle boot')\n",
    "\n",
    "\n",
    "def matplotlib_imshow(img, one_channel=False):\n",
    "    if one_channel:\n",
    "        img = img.cpu().mean(dim=0)\n",
    "    img = img / 2 + 0.5     # unnormalize\n",
    "    npimg = img.numpy()\n",
    "    if one_channel:\n",
    "        plt.imshow(npimg, cmap=\"Greys\")\n",
    "    else:\n",
    "        plt.imshow(np.transpose(npimg, (1, 2, 0)))"
   ]
  },
  {
   "cell_type": "markdown",
   "metadata": {},
   "source": [
    "Always remember to initialize the `device` variable with CUDA enabled GPU, in case it is available. This makes porting of our code to GPU's easier later."
   ]
  },
  {
   "cell_type": "code",
   "execution_count": 4,
   "metadata": {},
   "outputs": [
    {
     "name": "stdout",
     "output_type": "stream",
     "text": [
      "Using the device cpu\n"
     ]
    }
   ],
   "source": [
    "device = torch.device(\"cuda:0\" if torch.cuda.is_available() else \"cpu\")\n",
    "print(\"Using the device\",device)"
   ]
  },
  {
   "cell_type": "markdown",
   "metadata": {},
   "source": [
    "Let us now intialize a 2-layer neural network model using the `nn.Module` of PyTorch. The model is then moved to the device specified by the `device` variable. We also complete the definitions of the loss function and the optimizer."
   ]
  },
  {
   "cell_type": "code",
   "execution_count": 5,
   "metadata": {},
   "outputs": [],
   "source": [
    "class Net(nn.Module):\n",
    "    def __init__(self, activation=nn.Sigmoid(),\n",
    "                 input_size=1*28*28, hidden_size=100, classes=10):\n",
    "        super(Net, self).__init__()\n",
    "        self.input_size = input_size\n",
    "\n",
    "        # Here we initialize our activation and set up our two linear layers\n",
    "        self.activation = activation\n",
    "        self.fc1 = nn.Linear(input_size, hidden_size)\n",
    "        self.fc2 = nn.Linear(hidden_size, classes)\n",
    "\n",
    "    def forward(self, x):\n",
    "        x = x.view(-1, self.input_size) # flatten\n",
    "        x = self.fc1(x)\n",
    "        x = self.activation(x)\n",
    "        x = self.fc2(x)\n",
    "\n",
    "        return x\n",
    "    \n",
    "net = Net()\n",
    "net.to(device)\n",
    "\n",
    "criterion = nn.CrossEntropyLoss()\n",
    "optimizer = optim.SGD(net.parameters(), lr=0.001, momentum=0.9)"
   ]
  },
  {
   "cell_type": "markdown",
   "metadata": {},
   "source": [
    "PyTorch provides support for logging data to TensorBoard using the `SummaryWriter` module.\n",
    "We will now initialize an object of`SummaryWriter` and specify the directory [**runs/introduction**] to store its related data."
   ]
  },
  {
   "cell_type": "code",
   "execution_count": 11,
   "metadata": {},
   "outputs": [],
   "source": [
    "from torch.utils.tensorboard import SummaryWriter\n",
    "\n",
    "# default `log_dir` is \"runs\" - we'll be more specific here\n",
    "writer = SummaryWriter('runs/introduction')"
   ]
  },
  {
   "cell_type": "markdown",
   "metadata": {},
   "source": [
    "# 3. Writing to TensorBoard"
   ]
  },
  {
   "cell_type": "markdown",
   "metadata": {},
   "source": [
    "Let's write some stuff to TensorBoard, and log into it to see how things go. :)\n",
    "\n",
    "\n",
    "You can open the TensorBoard GUI by running the command from this exercise folder in a Terminal:\n",
    "```tensorboard --logdir=runs```\n",
    "\n",
    "For those using Linux or Mac, you can open a Terminal **in this exercise folder** and run the above command.\n",
    "\n",
    "For those using Windows with Anaconda packages, open an Anaconda Prompt and then run the above command. \n",
    "In case you don't  use Anaconda, use your default method of running python code in cmd.\n",
    "\n",
    "\n"
   ]
  },
  {
   "cell_type": "markdown",
   "metadata": {},
   "source": [
    "![tensorBoard Terminal](./images/tb_terminal.png)\n"
   ]
  },
  {
   "cell_type": "markdown",
   "metadata": {},
   "source": [
    "You must be able to see the URL link (  `http://localhost:6006/` in the image) for accessing the tensorboard interface. Let's navigate to that URL in a browser.\n"
   ]
  },
  {
   "cell_type": "markdown",
   "metadata": {},
   "source": [
    "2) Also, if you're using VScode, press <code> Ctrl + Shift + p </code> and look for <code> Tensorboard </code> (Make sure that version <code>2.8.0</code> is installed)\n",
    "\n",
    "![](./images/Vscode_tensorboard.png)\n",
    "![](./images/Vscode_tensorboard_2.png)\n"
   ]
  },
  {
   "cell_type": "markdown",
   "metadata": {},
   "source": [
    "3) If you are using Google Colab, run the uncommented following cell to load the TensorBoard extension within the notebook.\n",
    "You may have to scroll to this block whenever you need to look at the tensorboard interface."
   ]
  },
  {
   "cell_type": "code",
   "execution_count": null,
   "metadata": {},
   "outputs": [],
   "source": [
    "# %load_ext tensorboard\n",
    "# %tensorboard --logdir runs"
   ]
  },
  {
   "cell_type": "markdown",
   "metadata": {},
   "source": [
    "\n",
    "No dashboards are created yet! Let's log some data to our `SummaryWriter` object"
   ]
  },
  {
   "cell_type": "code",
   "execution_count": 13,
   "metadata": {},
   "outputs": [
    {
     "data": {
      "image/png": "[encoded data removed]",
      "text/plain": [
       "<Figure size 432x288 with 1 Axes>"
      ]
     },
     "metadata": {
      "needs_background": "light"
     },
     "output_type": "display_data"
    }
   ],
   "source": [
    "# get some random training images\n",
    "dataiter = iter(trainloader)\n",
    "images, labels = dataiter.next()\n",
    "\n",
    "# create grid of images\n",
    "img_grid = torchvision.utils.make_grid(images)\n",
    "\n",
    "# show images using our helper function\n",
    "matplotlib_imshow(img_grid)\n",
    "\n",
    "# Write the generated image to tensorboard\n",
    "writer.add_image('four_mnist_images', img_grid)"
   ]
  },
  {
   "cell_type": "markdown",
   "metadata": {},
   "source": [
    "We can now see the image in our TensorBoard interface.  You might need to hit the refresh button on the top right as TensorBoard will only update in discrete intervals of time."
   ]
  },
  {
   "cell_type": "markdown",
   "metadata": {},
   "source": [
    "![tensorBoard Interface](./images/imgvis.jpg)\n"
   ]
  },
  {
   "cell_type": "markdown",
   "metadata": {},
   "source": [
    "# 4. Visualization Model Architectures"
   ]
  },
  {
   "cell_type": "markdown",
   "metadata": {},
   "source": [
    "Let's try to now visualize the architecture of our `net` model in Tensorboard. We can even look at input and output dimensions of your model. It is also a good way to debug as the model grows more and more complex.  \n",
    "\n",
    "Let's visualize the model now.\n"
   ]
  },
  {
   "cell_type": "code",
   "execution_count": 15,
   "metadata": {},
   "outputs": [],
   "source": [
    "writer.add_graph(net.cpu(), images)\n",
    "writer.close()"
   ]
  },
  {
   "cell_type": "markdown",
   "metadata": {},
   "source": [
    "![Model Architecture Visualization](./images/tb_model.png)\n"
   ]
  },
  {
   "cell_type": "markdown",
   "metadata": {},
   "source": [
    "Click the `GRAPHS` section in the top ribbon to access it the architecture. The above image was generated by clicking on our network `Net`.\n",
    "Feel free to explore with the various features of this model's visualization! "
   ]
  },
  {
   "cell_type": "markdown",
   "metadata": {},
   "source": [
    "# 5. Training network models "
   ]
  },
  {
   "cell_type": "markdown",
   "metadata": {},
   "source": [
    "It's now time to explore the most important use of TensorBoard - for model training.\n"
   ]
  },
  {
   "cell_type": "markdown",
   "metadata": {},
   "source": [
    "We shall define two helper functions here: `images_to_probs` and `plot_classes_preds`."
   ]
  },
  {
   "cell_type": "code",
   "execution_count": 16,
   "metadata": {},
   "outputs": [],
   "source": [
    "def images_to_probs(net, images):\n",
    "    '''\n",
    "    Returns the predicted class and probabilites of the image belonging to each of the classes \n",
    "    from the network output\n",
    "    '''\n",
    "    output = net(images)\n",
    "    # convert output probabilities to predicted class\n",
    "    _, preds_tensor = torch.max(output, 1)\n",
    "    preds = np.squeeze(preds_tensor.cpu().numpy())\n",
    "    return preds, [F.softmax(el, dim=0)[i].item() for i, el in zip(preds, output)]\n",
    "\n",
    "\n",
    "def plot_classes_preds(net, images, labels):\n",
    "    '''\n",
    "    Returns a plot using the network, along with images\n",
    "    and labels from a batch, that shows the network's class prediction along\n",
    "    with its probability, alongside the actual label, coloring this\n",
    "    information based on whether the prediction was correct or not.\n",
    "    Uses the \"images_to_probs\" function defined above.\n",
    "    '''\n",
    "    preds, probs = images_to_probs(net, images)\n",
    "    # plot the images in the batch, along with predicted and true labels\n",
    "    fig = plt.figure(figsize=(4,4))\n",
    "    \n",
    "    for idx in np.arange(4):\n",
    "        ax = fig.add_subplot(4, 1, idx+1, xticks=[], yticks=[])\n",
    "        fig.tight_layout()\n",
    "        matplotlib_imshow(images[idx], one_channel=True)\n",
    "        ax.set_title(\"{0}, {1:.1f}%(label: {2})\".format(\n",
    "            classes[preds[idx]],\n",
    "            probs[idx] * 100.0,\n",
    "            classes[labels[idx]]),\n",
    "                    color=(\"green\" if preds[idx]==labels[idx].item() else \"red\"),loc=\"center\",pad=5,fontsize=\"medium\")\n",
    "    return fig"
   ]
  },
  {
   "cell_type": "markdown",
   "metadata": {},
   "source": [
    "We are all set up to train the model! Let's use the same framework we used in the `PyTorch` tutorial notebook.\n",
    "\n",
    "Let's write the average loss and the plot generated from `plot_classes_preds` to TensorBoard every 1000 batches  using the `add_scalar` and `add_figure` functions. \n",
    "\n"
   ]
  },
  {
   "cell_type": "code",
   "execution_count": 17,
   "metadata": {},
   "outputs": [
    {
     "name": "stdout",
     "output_type": "stream",
     "text": [
      "[Epoch 1, Iteration  1000]\n",
      "[Epoch 1, Iteration  2000]\n",
      "[Epoch 1, Iteration  3000]\n",
      "[Epoch 1, Iteration  4000]\n",
      "[Epoch 1, Iteration  5000]\n",
      "[Epoch 1, Iteration  6000]\n",
      "[Epoch 1, Iteration  7000]\n",
      "Finished Training\n"
     ]
    }
   ],
   "source": [
    "epochs = 1\n",
    "running_loss = 0.0\n",
    "net.to(device)\n",
    "\n",
    "for epoch in range(epochs):  # loop over the dataset multiple times\n",
    "    for i, data in enumerate(trainloader, 0):#Iterating through the minibatches of the data\n",
    "\n",
    "        # data is a tuple of (inputs, labels)\n",
    "        inputs, labels = data\n",
    "        \n",
    "        # Makes sure that the model and the data are in the same device\n",
    "        inputs = inputs.to(device)\n",
    "        labels = labels.to(device)\n",
    "        \n",
    "        # Reset the parameter gradients for the current  minibatch iteration \n",
    "        optimizer.zero_grad()\n",
    "\n",
    "        \n",
    "        outputs = net(inputs)              # Perform a forward pass on the network with inputs\n",
    "        loss = criterion(outputs, labels)  # calculate the loss with the network predictions and ground Truth\n",
    "        loss.backward()                    # Perform a backward pass to calculate the gradients\n",
    "        optimizer.step()                   # Optimise the network parameters with calculated gradients\n",
    "\n",
    "        # Accumulate the loss\n",
    "        running_loss += loss.item()\n",
    "        \n",
    "        if i % 1000 == 999:    # every thousandth mini-batch\n",
    "            print(\"[Epoch %d, Iteration %5d]\" % (epoch+1, i+1))\n",
    "\n",
    "            # log the running loss\n",
    "            writer.add_scalar('Training loss',\n",
    "                            running_loss / 1000,\n",
    "                            epoch * len(trainloader) + i)\n",
    "\n",
    "            # log the plot showing the model's predictions on a  sample of mini-batch using our helper function\n",
    "            \n",
    "            writer.add_figure('Predictions vs Actuals',\n",
    "                            plot_classes_preds(net, inputs, labels),\n",
    "                            i)\n",
    "            running_loss = 0.0\n",
    "\n",
    "print('Finished Training')"
   ]
  },
  {
   "cell_type": "markdown",
   "metadata": {},
   "source": [
    "You will now be able to see the plot of loss under `SCALARS` tab. We can also see the  figure for predicted samples in `IMAGES` tab."
   ]
  },
  {
   "cell_type": "markdown",
   "metadata": {},
   "source": [
    "![](./images/tb_results1.png)"
   ]
  },
  {
   "cell_type": "markdown",
   "metadata": {},
   "source": [
    "![](./images/tb_results3.png)"
   ]
  },
  {
   "cell_type": "markdown",
   "metadata": {},
   "source": [
    "# 6. Experimenting  weight initialization strategies"
   ]
  },
  {
   "cell_type": "markdown",
   "metadata": {},
   "source": [
    "We will now  apply all the techniques we have learned in `TensorBoard` to explore the effect of different weight initializations. In the previous exercises, we used a naive Gaussian initialization, though in the lectures you learned that one needs to be careful about the weight initialization values. In addition, weight initialization is dependent on the activation function used.  \n",
    "\n",
    "Let's replicate those experiments!\n",
    "\n",
    "The code below initializes a new `SummaryWriter` instance to log experiment values in the directory `weight_init_experiments`."
   ]
  },
  {
   "cell_type": "code",
   "execution_count": 18,
   "metadata": {},
   "outputs": [],
   "source": [
    "from torch.utils.tensorboard import SummaryWriter\n",
    "writer = SummaryWriter('runs/weight_init_experiments')"
   ]
  },
  {
   "cell_type": "markdown",
   "metadata": {},
   "source": [
    "Let's define a test network for the experiment and keep track of the output of each layer to find how the input data is modified through the layers."
   ]
  },
  {
   "cell_type": "code",
   "execution_count": 19,
   "metadata": {},
   "outputs": [],
   "source": [
    "import torch.nn as nn\n",
    "import torch.nn.functional as F\n",
    "\n",
    "class Net(nn.Module):\n",
    "    def __init__(self, activation_method):\n",
    "        super(Net, self).__init__()\n",
    "        \n",
    "        self.x1 = torch.Tensor([])\n",
    "        self.x2 = torch.Tensor([])\n",
    "        self.x3 = torch.Tensor([])\n",
    "        self.x4 = torch.Tensor([])\n",
    "        self.x5 = torch.Tensor([])\n",
    "        self.x6 = torch.Tensor([])\n",
    "                \n",
    "        self.fc1 = nn.Linear(28*28, 300)\n",
    "        self.fc2 = nn.Linear(300, 300)\n",
    "        self.fc3 = nn.Linear(300, 300)\n",
    "        self.fc4 = nn.Linear(300, 300)\n",
    "        self.fc5 = nn.Linear(300, 300)\n",
    "        self.fc6 = nn.Linear(300, 300)\n",
    "        self.fc7 = nn.Linear(300, 10)\n",
    "        \n",
    "        if activation_method == \"relu\" :\n",
    "            self.activation = nn.ReLU() \n",
    "        elif activation_method == \"tanh\":\n",
    "            self.activation = nn.Tanh() \n",
    "        \n",
    "    def forward(self, x):\n",
    "        x = x.reshape(-1,28*28)\n",
    "        self.x1 = self.activation(self.fc1(x))\n",
    "        self.x2 = self.activation(self.fc2(self.x1))\n",
    "        self.x3 = self.activation(self.fc3(self.x2))\n",
    "        self.x4 = self.activation(self.fc4(self.x3))\n",
    "        self.x5 = self.activation(self.fc5(self.x4))\n",
    "        self.x6 = self.activation(self.fc6(self.x5))\n",
    "        logits = self.fc7 (self.x6)\n",
    "        return logits\n",
    "\n",
    "    def collect_layer_out (self):# Return the output values for each of the network layers\n",
    "        return [self.x1, self.x2, self.x3, self.x4, self.x5, self.x6]\n",
    " \n",
    "net = Net(\"tanh\")"
   ]
  },
  {
   "cell_type": "markdown",
   "metadata": {},
   "source": [
    "Let's now sample a batch of images for input to the network."
   ]
  },
  {
   "cell_type": "code",
   "execution_count": 20,
   "metadata": {},
   "outputs": [
    {
     "name": "stdout",
     "output_type": "stream",
     "text": [
      "Size of the Mini-batch input: torch.Size([40, 1, 28, 28])\n"
     ]
    }
   ],
   "source": [
    "visloader = torch.utils.data.DataLoader(fashion_mnist_dataset, batch_size=40, shuffle=True)\n",
    "dataiter = iter(visloader)\n",
    "images, labels = dataiter.next()\n",
    "\n",
    "print(\"Size of the Mini-batch input:\",images.size())"
   ]
  },
  {
   "cell_type": "markdown",
   "metadata": {},
   "source": [
    "We will plot the histogram of activation values  produced in each of the network layers as the input passes through the network model using the `add_histogram` function. This helps us look at the distribution of activation values. Select the `HISTOGRAMS` tab in TensorBoard to visualise the experiment results."
   ]
  },
  {
   "cell_type": "markdown",
   "metadata": {},
   "source": [
    "Run the uncommented code block only if you are using Google Colab"
   ]
  },
  {
   "cell_type": "code",
   "execution_count": null,
   "metadata": {},
   "outputs": [],
   "source": [
    "# %tensorboard --logdir runs"
   ]
  },
  {
   "cell_type": "markdown",
   "metadata": {},
   "source": [
    "## 6.1 Constant weight initialization with $tanh$ activation"
   ]
  },
  {
   "cell_type": "markdown",
   "metadata": {},
   "source": [
    "Let's start with constant weight initialization. What problems do you observe with the distribution of the output of each layer? "
   ]
  },
  {
   "cell_type": "code",
   "execution_count": 21,
   "metadata": {},
   "outputs": [],
   "source": [
    "net_const = Net(\"tanh\")\n",
    "\n",
    "def init_weights(m):\n",
    "    if type(m) == nn.Linear:\n",
    "        torch.nn.init.constant_(m.weight,2.0)\n",
    "        m.bias.data.fill_(0.01)\n",
    "        \n",
    "net_const.apply(init_weights)\n",
    "outputs = net_const(images)\n",
    "layer_out = net_const.collect_layer_out()\n",
    "\n",
    "for i, x in enumerate(layer_out):\n",
    "    writer.add_histogram('constant_init', x, i+1)"
   ]
  },
  {
   "cell_type": "markdown",
   "metadata": {},
   "source": [
    "We can see that initialization with constant values does not break the symmetry of weights, i.e. all neurons in network always learn the same features from the input since the weights are the same.  \n",
    "\n",
    "Now we will try random weight initialization and let's see what happens if weights are initialized with high numerical values or very low numerical values."
   ]
  },
  {
   "cell_type": "markdown",
   "metadata": {},
   "source": [
    "## 6.2 Random weight initialization of small numerical values with $tanh$ activation"
   ]
  },
  {
   "cell_type": "code",
   "execution_count": 22,
   "metadata": {},
   "outputs": [],
   "source": [
    "net_small_normal = Net(\"tanh\")\n",
    "\n",
    "def init_weights(m):\n",
    "    if type(m) == nn.Linear:\n",
    "        torch.nn.init.normal_(m.weight,mean=0.0, std=0.01)\n",
    "        m.bias.data.fill_(0.01)\n",
    "        \n",
    "net_small_normal.apply(init_weights)\n",
    "outputs = net_small_normal(images)\n",
    "layer_out = net_small_normal.collect_layer_out()\n",
    "\n",
    "for i, x in enumerate(layer_out):\n",
    "    writer.add_histogram('small_normal_tanh', x, i+1)"
   ]
  },
  {
   "cell_type": "markdown",
   "metadata": {},
   "source": [
    "## 6.3  Random weight initialization of large numerical values with $tanh$ activation"
   ]
  },
  {
   "cell_type": "code",
   "execution_count": 23,
   "metadata": {},
   "outputs": [],
   "source": [
    "net_large_normal = Net(\"tanh\")\n",
    "\n",
    "def init_weights(m):\n",
    "    if type(m) == nn.Linear:\n",
    "        torch.nn.init.normal_(m.weight,mean=0.0, std=0.2)\n",
    "        m.bias.data.fill_(0.01)\n",
    "        \n",
    "net_large_normal.apply(init_weights)\n",
    "outputs = net_large_normal(images)\n",
    "layer_out = net_large_normal.collect_layer_out()\n",
    "\n",
    "for i, x in enumerate(layer_out):\n",
    "    writer.add_histogram('large_normal_tanh', x, i+1)"
   ]
  },
  {
   "cell_type": "markdown",
   "metadata": {},
   "source": [
    "From last two examples, we can see that random weight initialization with normal distribution might work well in some shallow layers of the network, while if we are going deeper into the network, it will end up with **vanishing gradient problem**, i.e.\n",
    "\n",
    "- If weights are initialized with very high values, the term $Xw+b$ becomes significantly higher and with activation function such as $tanh$, the function returns value very close to $-1$ or $1$. At these values, the gradient of $tanh$ is very low, thus learning takes a lot of time.\n",
    "\n",
    "- If weights are initialized with low values, it gets mapped to around 0, and the small values will kill gradients when backpropagating through the network. \n"
   ]
  },
  {
   "cell_type": "markdown",
   "metadata": {},
   "source": [
    "## 6.4 Xavier initialization with $tanh$ activation"
   ]
  },
  {
   "cell_type": "markdown",
   "metadata": {},
   "source": [
    "From the previous examples, we can see that a proper weight initialization is needed to ensure nice distribution of the output of each layers. Here comes the **Xavier Initialization**.\n",
    "\n",
    "We will fill the weight with values using a normal distribution $\\mathcal{N}(0,{\\sigma}^2)$ where\n",
    "\n",
    "$$ \\sigma = gain \\times \\sqrt{\\frac{2}{fan _{in} + fan_{out}}} $$\n",
    "\n",
    "Here $fan _{in}$ and $ fan_{out} $ are number of neurons in the input and output layer and ${gain}$ is a optional scaling factor."
   ]
  },
  {
   "cell_type": "code",
   "execution_count": 24,
   "metadata": {},
   "outputs": [],
   "source": [
    "net_xavier = Net(\"tanh\")\n",
    "\n",
    "def init_weights(m):\n",
    "    if type(m) == nn.Linear:\n",
    "        torch.nn.init.xavier_normal_(m.weight)\n",
    "        m.bias.data.fill_(0.01)\n",
    "        \n",
    "net_xavier.apply(init_weights)\n",
    "outputs = net_xavier(images)\n",
    "layer_out = net_xavier.collect_layer_out()\n",
    "\n",
    "for i, x in enumerate(layer_out):\n",
    "    writer.add_histogram('xavier_tanh', x, i+1)"
   ]
  },
  {
   "cell_type": "markdown",
   "metadata": {},
   "source": [
    "## 6.5 Xavier initialization with ReLU"
   ]
  },
  {
   "cell_type": "markdown",
   "metadata": {},
   "source": [
    "Xavier initialization requires a zero centered activation function such as $tanh$ to work well. Let's try using the Xavier initialization with ReLU:"
   ]
  },
  {
   "cell_type": "code",
   "execution_count": 25,
   "metadata": {},
   "outputs": [],
   "source": [
    "net_xavier_relu = Net(\"relu\")\n",
    "\n",
    "def init_weights(m):\n",
    "    if type(m) == nn.Linear:\n",
    "        torch.nn.init.xavier_uniform_(m.weight)\n",
    "        m.bias.data.fill_(0.01)\n",
    "        \n",
    "net_xavier_relu.apply(init_weights)\n",
    "outputs = net_xavier_relu(images)\n",
    "layer_out = net_xavier_relu.collect_layer_out()\n",
    "\n",
    "for i, x in enumerate(layer_out):\n",
    "    writer.add_histogram('xavier_relu', x, i+1)"
   ]
  },
  {
   "cell_type": "markdown",
   "metadata": {},
   "source": [
    "We can see here that layer outputs collapse to zero again if we use non-zero centered activation such as ReLU."
   ]
  },
  {
   "cell_type": "markdown",
   "metadata": {},
   "source": [
    "## 6.6 He initialization with ReLU"
   ]
  },
  {
   "cell_type": "markdown",
   "metadata": {},
   "source": [
    "**He Initialization** comes to our rescue for non-centered activation functions. We will fill the weight with values using a normal distribution $\\mathcal{N}(0,\\sigma^2)$ where\n",
    "\n",
    "$$ \\sigma = \\frac {gain} {\\sqrt{fan_{mode}}} $$\n",
    "\n",
    "Here $fan _{mode}$ can be chosen either $fan _{in}$ (default) or $fan _{out}$.\n",
    "\n",
    "Choosing $fan _{in}$ preserves the magnitude of the variance of the weights in the forward pass. Choosing $fan _{out}$ preserves the magnitudes of weights during the backwards pass. The variable $gain$ is again the optional scaling factor."
   ]
  },
  {
   "cell_type": "code",
   "execution_count": 26,
   "metadata": {},
   "outputs": [],
   "source": [
    "net_kaiming_relu = Net(\"relu\")\n",
    "\n",
    "def init_weights(m):\n",
    "    if type(m) == nn.Linear:\n",
    "        torch.nn.init.kaiming_uniform_(m.weight,nonlinearity='relu')\n",
    "        m.bias.data.fill_(0.01)\n",
    "        \n",
    "net_kaiming_relu.apply(init_weights)\n",
    "outputs = net_kaiming_relu(images)\n",
    "layer_out = net_kaiming_relu.collect_layer_out()\n",
    "\n",
    "for i, x in enumerate(layer_out):\n",
    "    writer.add_histogram('kaiming_relu', x, i+1)"
   ]
  },
  {
   "cell_type": "markdown",
   "metadata": {},
   "source": [
    "With these, you should have everything at hand to work with Tensorboard. It is highly advised to use either Tensorboard or other similar libraries, such as visdom to visualise network training results.\n",
    "\n",
    "\n",
    "We will now move to the final notebook on [`PyTorchLightning`](https://www.pytorchlightning.ai/), a wrapper for `PyTorch` which makes training neural networks more swifter and easier.\n"
   ]
  }
 ],
 "metadata": {
  "interpreter": {
   "hash": "bbf148f741bdcfda68412a690aa89cb477d7b565ce205d715d0eac6f68c7216c"
  },
  "kernelspec": {
   "display_name": "Python 3 (ipykernel)",
   "language": "python",
   "name": "python3"
  },
  "language_info": {
   "codemirror_mode": {
    "name": "ipython",
    "version": 3
   },
   "file_extension": ".py",
   "mimetype": "text/x-python",
   "name": "python",
   "nbconvert_exporter": "python",
   "pygments_lexer": "ipython3",
   "version": "3.8.6"
  }
 },
 "nbformat": 4,
 "nbformat_minor": 4
}
